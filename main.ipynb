{
 "cells": [
  {
   "cell_type": "code",
   "execution_count": null,
   "metadata": {},
   "outputs": [],
   "source": [
    "import optuna\n",
    "from sindy import *\n",
    "from sklearn.preprocessing import StandardScaler\n",
    "from matplotlib import pyplot as plt"
   ]
  },
  {
   "attachments": {},
   "cell_type": "markdown",
   "metadata": {},
   "source": [
    "## Simulate Lorenz Attractor"
   ]
  },
  {
   "cell_type": "code",
   "execution_count": null,
   "metadata": {},
   "outputs": [],
   "source": [
    "# system parametera\n",
    "sigma = 10.0\n",
    "rho = 28.0\n",
    "beta = 8/3\n",
    "params = np.array([sigma, rho, beta])\n",
    "\n",
    "# state => [x, y, z]\n",
    "X0 = np.array([0, 1, 20])\n",
    "\n",
    "# timesteps\n",
    "n_steps = 10000\n",
    "t = np.linspace(0, 50, n_steps)\n",
    "\n",
    "# simulated states and timsteps data\n",
    "X, t = simulate_lorenz_attractor(\n",
    "    initial_state=X0, \n",
    "    timesteps=t, \n",
    "    params=params\n",
    ")\n",
    "\n",
    "X.shape, t.shape"
   ]
  },
  {
   "attachments": {},
   "cell_type": "markdown",
   "metadata": {},
   "source": [
    "## Compute Derivatives Numerically"
   ]
  },
  {
   "cell_type": "code",
   "execution_count": null,
   "metadata": {},
   "outputs": [],
   "source": [
    "# numerically computed derivatives of system\n",
    "numerical_derivatives = compute_derivatives(\n",
    "    data=X, \n",
    "    timesteps=t,\n",
    "    h=1\n",
    ")\n",
    "\n",
    "# actual derivatives of system\n",
    "actual_derivatives = np.array([\n",
    "    lorenz_ode(t, x, sigma, rho, beta) for t, x in zip(t, X)\n",
    "])"
   ]
  },
  {
   "attachments": {},
   "cell_type": "markdown",
   "metadata": {},
   "source": [
    "## Simulaate and Add Periodic Control Input to the Lorenz System state space"
   ]
  },
  {
   "cell_type": "code",
   "execution_count": null,
   "metadata": {},
   "outputs": [],
   "source": [
    "# periodic control input\n",
    "U = 10 * np.sin(t / 5)\n",
    "plt.figure(figsize=(10, 3))\n",
    "plt.plot(t, U)\n",
    "plt.title(r'Input $U(t)$')\n",
    "plt.xlabel(r'$t$')\n",
    "plt.grid()"
   ]
  },
  {
   "cell_type": "code",
   "execution_count": null,
   "metadata": {},
   "outputs": [],
   "source": [
    "# Add periodic control input to state matrix\n",
    "X_U = np.concatenate([X, U.reshape(-1, 1)], axis=1)\n",
    "X_U.shape"
   ]
  },
  {
   "attachments": {},
   "cell_type": "markdown",
   "metadata": {},
   "source": [
    "## Compute Polynomial Features"
   ]
  },
  {
   "cell_type": "code",
   "execution_count": null,
   "metadata": {},
   "outputs": [],
   "source": [
    "# polynomial features\n",
    "X_poly = compute_poly_features(\n",
    "    data=X_U,\n",
    "    degree=2, \n",
    "    column_names=[\"X\", \"Y\", \"Z\", \"U\"]\n",
    ")\n",
    "\n",
    "X_poly.head()"
   ]
  },
  {
   "attachments": {},
   "cell_type": "markdown",
   "metadata": {},
   "source": [
    "## Define Data Scaler Object For scaling Data to a specific Range"
   ]
  },
  {
   "cell_type": "code",
   "execution_count": null,
   "metadata": {},
   "outputs": [],
   "source": [
    "# data scaler object\n",
    "scaler = StandardScaler()"
   ]
  },
  {
   "attachments": {},
   "cell_type": "markdown",
   "metadata": {},
   "source": [
    "## Tune the relevant Hyper-parameters with Optuna"
   ]
  },
  {
   "cell_type": "code",
   "execution_count": null,
   "metadata": {},
   "outputs": [],
   "source": [
    "# hyper-parameter tuning space\n",
    "alpha_space = (0.01, 0.5)\n",
    "max_iter_space = (1000, 2000)\n",
    "max_features_space = (3, 7)\n",
    "n_cv = 10\n",
    "threshold=-np.inf\n",
    "\n",
    "# construct objective to find the best value of alpha max_iter and max_features\n",
    "# that best minimize the 2 norm of the difference between the estimated \n",
    "# derivatives and the numerically computed derivatives.\n",
    "objective = lambda trial: optimize_objective(\n",
    "    trial=trial, \n",
    "    poly_features=X_poly.values, \n",
    "    derivatives=numerical_derivatives, \n",
    "    alpha_space=alpha_space, \n",
    "    max_iter_space=max_iter_space,\n",
    "    max_features_space=max_features_space,\n",
    "    n_cv=n_cv,\n",
    "    threshold=threshold,\n",
    "    scaler=scaler,\n",
    ")\n",
    "\n",
    "# create optuna study\n",
    "study = optuna.create_study(\n",
    "    study_name=\"SINDy\",\n",
    "    direction=\"minimize\",\n",
    "    pruner=optuna.pruners.MedianPruner(),\n",
    "    sampler=optuna.samplers.TPESampler(),\n",
    ")\n",
    "\n",
    "# optimize study objective\n",
    "study.optimize(objective, n_trials=20)"
   ]
  },
  {
   "attachments": {},
   "cell_type": "markdown",
   "metadata": {},
   "source": [
    "## Compute Sparse Coefficients and Get Selected Features"
   ]
  },
  {
   "cell_type": "code",
   "execution_count": null,
   "metadata": {},
   "outputs": [],
   "source": [
    "# compute sparse coeffs and get features index\n",
    "sindy_coeffs, selected_features = compute_linear_operator(\n",
    "    poly_features=X_poly.values,\n",
    "    derivatives=numerical_derivatives,\n",
    "    alpha=study.best_trial.params[\"alpha\"],\n",
    "    max_iter=study.best_trial.params[\"max_iter\"],\n",
    "    max_features=study.best_trial.params[\"max_features\"],\n",
    "    n_cv=n_cv,\n",
    "    threshold=threshold,\n",
    "    scaler=scaler\n",
    ")\n",
    "\n",
    "BETA = sindy_coeffs.T.round(3)"
   ]
  },
  {
   "cell_type": "code",
   "execution_count": null,
   "metadata": {},
   "outputs": [],
   "source": [
    "# get relevant features\n",
    "relevant_cols = X_poly.columns[selected_features]\n",
    "X_prime = X_poly[relevant_cols]\n",
    "\n",
    "# normalise data for visual validation\n",
    "X_prime = scaler.fit_transform(X_prime)\n",
    "actual_derivatives = scaler.fit_transform(actual_derivatives)\n",
    "numerical_derivatives = scaler.fit_transform(numerical_derivatives)\n",
    "\n",
    "print(\n",
    "    f\"alpha: {study.best_trial.params['alpha']} \\n\",\n",
    "    f\"max_iter: {study.best_trial.params['max_iter']} \\n\",\n",
    "    f\"max_features: {study.best_trial.params['max_features']}\",\n",
    "    f\"Relevant Columns: \\n{relevant_cols} \\n\\n\", \n",
    "    f\"Sparse Linear Operator: \\n{BETA}\",\n",
    ")"
   ]
  },
  {
   "attachments": {},
   "cell_type": "markdown",
   "metadata": {},
   "source": [
    "## Use Computed Linear Operator (Sparse Coefficient) to Estimate derivatives"
   ]
  },
  {
   "cell_type": "code",
   "execution_count": null,
   "metadata": {},
   "outputs": [],
   "source": [
    "# estimate derivatives with linear combination\n",
    "# of relevant features and sparse linear operator (beta)\n",
    "estimated_derivatives = X_prime @ BETA"
   ]
  },
  {
   "attachments": {},
   "cell_type": "markdown",
   "metadata": {},
   "source": [
    "## Visualise and Compare Derivatives"
   ]
  },
  {
   "cell_type": "code",
   "execution_count": null,
   "metadata": {},
   "outputs": [],
   "source": [
    "# plot data\n",
    "fig, axs = plt.subplots(1, 4, figsize=(20, 7), subplot_kw=dict(projection='3d'))\n",
    "axs[0].plot(X[:, 0], X[:, 1], X[:, 2])\n",
    "axs[0].set_title(f\"Lorenz Attractor\")\n",
    "\n",
    "axs[1].plot(actual_derivatives[:, 0], actual_derivatives[:, 1], actual_derivatives[:, 2])\n",
    "axs[1].set_title(\"Actual Derivatives\")\n",
    "\n",
    "axs[2].plot(numerical_derivatives[:, 0], numerical_derivatives[:, 1], numerical_derivatives[:, 2])\n",
    "axs[2].set_title(\"Numerically Computed Derivatives\")\n",
    "\n",
    "axs[3].plot(estimated_derivatives[:, 0], estimated_derivatives[:, 1], estimated_derivatives[:, 2])\n",
    "axs[3].set_title(\"Predicted Derivatives\")\n",
    "plt.show()"
   ]
  }
 ],
 "metadata": {
  "kernelspec": {
   "display_name": "Python 3",
   "language": "python",
   "name": "python3"
  },
  "language_info": {
   "codemirror_mode": {
    "name": "ipython",
    "version": 3
   },
   "file_extension": ".py",
   "mimetype": "text/x-python",
   "name": "python",
   "nbconvert_exporter": "python",
   "pygments_lexer": "ipython3",
   "version": "3.8.7"
  },
  "orig_nbformat": 4,
  "vscode": {
   "interpreter": {
    "hash": "6a926afa313b26ae1264fdcf81c726a97e69f6ba2ba780f6aa901948710f8d6e"
   }
  }
 },
 "nbformat": 4,
 "nbformat_minor": 2
}
